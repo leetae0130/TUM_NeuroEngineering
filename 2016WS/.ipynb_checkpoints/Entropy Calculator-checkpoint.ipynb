{
 "cells": [
  {
   "cell_type": "code",
   "execution_count": 1,
   "metadata": {
    "collapsed": false
   },
   "outputs": [
    {
     "name": "stdout",
     "output_type": "stream",
     "text": [
      "0.468995593589\n"
     ]
    }
   ],
   "source": [
    "import math\n",
    "import matplotlib.pyplot as plt\n",
    "from matplotlib import cm\n",
    "import mpl_toolkits.mplot3d.axes3d as axes3d\n",
    "import numpy as np\n",
    "\n",
    "p_logp = lambda p : p*math.log(1/p, 2) if p > 0 and p < 1 else 0\n",
    "b_entropy = lambda a : p_logp(a) + p_logp(1-a)\n",
    "entropy = lambda A : sum([p_logp(a) for a in A])\n",
    "combination = lambda n, p : math.factorial(n)/(math.factorial(int(n*p))*math.factorial(int(n*(1-p))))\n",
    "comb = lambda n, a : math.factorial(n)/(math.factorial(a)*math.factorial(n-a))\n",
    "probability = lambda n, a, p : comb(n, a)*(p**a)*(1-p)**(n-a)\n"
   ]
  },
  {
   "cell_type": "code",
   "execution_count": 7,
   "metadata": {
    "collapsed": false
   },
   "outputs": [
    {
     "data": {
      "text/plain": [
       "2.4660000000000006"
      ]
     },
     "execution_count": 7,
     "metadata": {},
     "output_type": "execute_result"
    }
   ],
   "source": [
    "1+0.522+0.31+0.171+0.139+0.212+0.112"
   ]
  },
  {
   "cell_type": "code",
   "execution_count": 6,
   "metadata": {
    "collapsed": false
   },
   "outputs": [
    {
     "data": {
      "text/plain": [
       "0.8814077669902912"
      ]
     },
     "execution_count": 6,
     "metadata": {},
     "output_type": "execute_result"
    }
   ],
   "source": [
    "0.469*2.71/1.442"
   ]
  },
  {
   "cell_type": "code",
   "execution_count": null,
   "metadata": {
    "collapsed": true
   },
   "outputs": [],
   "source": []
  }
 ],
 "metadata": {
  "anaconda-cloud": {},
  "kernelspec": {
   "display_name": "Python [default]",
   "language": "python",
   "name": "python2"
  },
  "language_info": {
   "codemirror_mode": {
    "name": "ipython",
    "version": 2
   },
   "file_extension": ".py",
   "mimetype": "text/x-python",
   "name": "python",
   "nbconvert_exporter": "python",
   "pygments_lexer": "ipython2",
   "version": "2.7.12"
  }
 },
 "nbformat": 4,
 "nbformat_minor": 1
}
