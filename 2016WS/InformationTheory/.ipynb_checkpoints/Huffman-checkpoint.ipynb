{
 "cells": [
  {
   "cell_type": "markdown",
   "metadata": {},
   "source": [
    "# Data Compression and Source Coding\n",
    "\n",
    "In this chapter, we learned the coding of memoryless source.\n",
    "Of the various coding theme, I implemented Huffman Coding on python.\n",
    "\n",
    "The basic lemma for optimal codes is that  \n",
    "* Optimal code assign shorter words to more probable letters.\n",
    "* All leaves in the tree of an optimal D-ary prefix-free code have a sibling.\n",
    "* There is an optimal D-ary prefix-free code whose two least-likely codewords differ only in their last digit.\n",
    "\n",
    "Based on above lemmas, Huffman codes is designed. (Here, we are dealing with binary Huffman codes)\n",
    "Among the various letters, we keep on merging the two 'least' likely letters until we merge every letters.\n",
    "The process of merging can be thought as assigning codewords to the letter."
   ]
  },
  {
   "cell_type": "code",
   "execution_count": 3,
   "metadata": {
    "collapsed": false
   },
   "outputs": [
    {
     "name": "stdout",
     "output_type": "stream",
     "text": [
      "Average Length of this tree is 1.9\n"
     ]
    }
   ],
   "source": [
    "from ete3 import Tree, TreeStyle\n",
    "\n",
    "class Binary_Leaf:\n",
    "    def __init__(self, name, prob_value, l_child = None, r_child = None, parent_node = None, is_root = False, code = \"\"):\n",
    "        self.name = name\n",
    "        self.probability =  prob_value\n",
    "        self.left_child = l_child\n",
    "        self.right_child = r_child\n",
    "        self.parent = parent_node\n",
    "        self.is_tree = is_root\n",
    "        self.code = code\n",
    "    def get_leftchild(self):\n",
    "        return self.left_child\n",
    "    def get_rightchild(self):\n",
    "        return self.right_child\n",
    "    def get_parent(self):\n",
    "        return self.parent_node\n",
    "    def branch_info(self):\n",
    "        return self.is_tree\n",
    "    def get_code(self):\n",
    "        return self.code\n",
    "    def set_code(self, codeword):\n",
    "        self.code = codeword\n",
    "    def set_childcode(self):\n",
    "        self.left_child.code = self.code + \"0\"\n",
    "        self.right_child.code = self.code + \"1\"\n",
    "        if self.left_child.is_tree :\n",
    "            self.left_child.set_childcode()\n",
    "        if self.right_child.is_tree :\n",
    "            self.right_child.set_childcode()\n",
    "    def set_leftchild(self, node):\n",
    "        self.left_child = node\n",
    "    def set_rightchild(self, node):\n",
    "        self.right_child = node\n",
    "\n",
    "class Leaf_List:\n",
    "    def __init__(self, leaf_list):\n",
    "        self.leaves = leaf_list\n",
    "    def sort_leaf(self):\n",
    "        return sorted(self.leaves, key=lambda leaf : leaf.probability, reverse = True)\n",
    "    def compress_leaf(self):\n",
    "        sorted_leaf = self.sort_leaf()\n",
    "        least_prob = sorted_leaf[-1]\n",
    "        next_prob = sorted_leaf[-2]\n",
    "        merged_leaf = Binary_Leaf(\"branch\", least_prob.probability + next_prob.probability, \n",
    "                                  l_child = least_prob, r_child = next_prob, is_root = True)\n",
    "        self.leaves = sorted_leaf[:-2] + [merged_leaf]\n",
    "    def show_codes(self):\n",
    "        for leaf in self.leaves :\n",
    "            print str(leaf.probability) + \" : \" + leaf.get_code()            \n",
    "    def size(self):\n",
    "        return len(self.leaves)\n",
    "            \n",
    "def Tree_search(root):        \n",
    "    s = \"\"\n",
    "    if root.is_tree == False :\n",
    "        s += root.name\n",
    "    else :\n",
    "        s += \"(\"\n",
    "        s += Tree_search(root.left_child)\n",
    "        s += \",\"\n",
    "        s += Tree_search(root.right_child)\n",
    "        s += \")\"\n",
    "    return s\n",
    "            \n",
    "def Huffman(leaves):\n",
    "    while(leaves.size() > 1):\n",
    "        leaves.compress_leaf()\n",
    "    root = leaves.leaves[0]\n",
    "    root.set_childcode()\n",
    "    s = Tree_search(root) + \";\"\n",
    "    t = Tree(s, format=1)\n",
    "    length = Calculate_length(root)\n",
    "    return t, length\n",
    "    \n",
    "def Calculate_length(root):\n",
    "    average_length = 0\n",
    "    if root.is_tree == False:\n",
    "        average_length += len(root.get_code()) * root.probability\n",
    "    else :\n",
    "        average_length += Calculate_length(root.left_child)\n",
    "        average_length += Calculate_length(root.right_child)\n",
    "    return average_length\n",
    "        \n",
    "a1 = Binary_Leaf(\"a1\", 0.4)\n",
    "a2 = Binary_Leaf(\"a2\", 0.3)\n",
    "a3 = Binary_Leaf(\"a3\", 0.2)\n",
    "a4 = Binary_Leaf(\"a4\", 0.1)\n",
    "\n",
    "List = [a1, a2, a3, a4]\n",
    "Leaves = Leaf_List(List)\n",
    "\n",
    "tree, length = Huffman(Leaves)\n",
    "ts = TreeStyle()\n",
    "ts.show_scale = False\n",
    "ts.min_leaf_separation = 30\n",
    "tree.render('Basic_Huffman.png', tree_style = ts)\n",
    "\n",
    "print \"Average Length of this tree is \" + str(length)\n",
    "#ts = TreeStyle()\n",
    "#ts.min_leaf_separation = 10\n",
    "#tree.render('Basic Huffman.png')\n"
   ]
  },
  {
   "cell_type": "markdown",
   "metadata": {},
   "source": [
    "![Basic_Huffman](images/BasicHuffman.png)"
   ]
  },
  {
   "cell_type": "code",
   "execution_count": 4,
   "metadata": {
    "collapsed": false
   },
   "outputs": [
    {
     "name": "stdout",
     "output_type": "stream",
     "text": [
      "Average Length of this tree is 3.73\n"
     ]
    }
   ],
   "source": [
    "List2 = []\n",
    "\n",
    "for l1 in List:\n",
    "    for l2 in List:\n",
    "        a = Binary_Leaf(l1.name+l2.name, l1.probability*l2.probability)\n",
    "        List2.append(a)\n",
    "\n",
    "Leaves = Leaf_List(List2)\n",
    "\n",
    "tree, length2 = Huffman(Leaves)\n",
    "ts = TreeStyle()\n",
    "ts.show_scale = False\n",
    "ts.min_leaf_separation = 30\n",
    "tree.render('Basic_Huffman.png', tree_style = ts)\n",
    "\n",
    "print \"Average Length of this tree is \" + str(length2)"
   ]
  },
  {
   "cell_type": "markdown",
   "metadata": {
    "collapsed": true
   },
   "source": [
    "![Basic_Huffman](images/Huffman2.png)"
   ]
  },
  {
   "cell_type": "code",
   "execution_count": 5,
   "metadata": {
    "collapsed": false
   },
   "outputs": [
    {
     "name": "stdout",
     "output_type": "stream",
     "text": [
      "Average Length of this tree is 5.577\n"
     ]
    }
   ],
   "source": [
    "def cartesian_leaf(List1, List2):\n",
    "    List3 = []\n",
    "\n",
    "    for l1 in List1:\n",
    "        for l2 in List2:\n",
    "            a = Binary_Leaf(l1.name+l2.name, l1.probability*l2.probability)\n",
    "            List3.append(a)    \n",
    "    return List3\n",
    "\n",
    "list3 = cartesian_leaf(List, cartesian_leaf(List, List))\n",
    "\n",
    "Leaves = Leaf_List(list3)\n",
    "\n",
    "tree, length3 = Huffman(Leaves)\n",
    "ts = TreeStyle()\n",
    "ts.show_scale = False\n",
    "ts.min_leaf_separation = 30\n",
    "tree.render('Huffman3.png', tree_style = ts)\n",
    "\n",
    "print \"Average Length of this tree is \" + str(length3)"
   ]
  },
  {
   "cell_type": "markdown",
   "metadata": {},
   "source": [
    "![Basic_Huffman](images/Huffman3.png)"
   ]
  },
  {
   "cell_type": "markdown",
   "metadata": {},
   "source": [
    "# Compression Rate\n",
    "\n",
    "During the lecture, we were taught that entropy indicates the level of compression we can achieve.  \n",
    "And we also learned that as the block size of the source becomes larger and larger, we can approach those rate.  \n",
    "(Here, we are talking about appropriate level of bits per symbol!)"
   ]
  },
  {
   "cell_type": "code",
   "execution_count": null,
   "metadata": {
    "collapsed": false
   },
   "outputs": [],
   "source": [
    "import math\n",
    "import numpy as np\n",
    "import matplotlib.pyplot as plt\n",
    "\n",
    "p_logp = lambda p : p*math.log(1/p, 2) if p > 0 and p < 1 else 0\n",
    "entropy = lambda A : sum([p_logp(a) for a in A])\n",
    "\n",
    "def ncartesian_leaf(List1, n):\n",
    "    if n > 2:\n",
    "        return cartesian_leaf(List1, ncartesian_leaf(List1, n-1))\n",
    "    else:\n",
    "        return cartesian_leaf(List1, List1)\n",
    "\n",
    "size = 7\n",
    "    \n",
    "x_space = np.linspace(1, size, size)\n",
    "length_array = np.zeros(size)\n",
    "\n",
    "entropy1 = entropy([0.1, 0.2, 0.3, 0.4])\n",
    "entropy_list = [entropy1 for i in range(size)]\n",
    "    \n",
    "for i in range(size):\n",
    "    Leaves = Leaf_List(ncartesian_leaf(List, i+1))\n",
    "\n",
    "    tree, length = Huffman(Leaves)\n",
    "    length_array[i] = length/(i+1)\n",
    "\n",
    "plt.subplot(111)\n",
    "plt.plot(x_space, length_array, 'r', label = 'compression rate')\n",
    "plt.plot(x_space, entropy_list, 'b', label = 'block entropy')\n",
    "plt.legend()\n",
    "plt.show()"
   ]
  },
  {
   "cell_type": "code",
   "execution_count": null,
   "metadata": {
    "collapsed": false
   },
   "outputs": [],
   "source": [
    "equal_dist = [0.25, 0.25, 0.25, 0.25]\n",
    "entropy2 = entropy(equal_dist)\n",
    "entropy_list2 = [entropy2 for i in range(size)]\n",
    "\n",
    "for i in range(size):\n",
    "    Leaves = Leaf_List(ncartesian_leaf(euqal_dist, i+1))\n",
    "\n",
    "    tree, length = Huffman(Leaves)\n",
    "    length_array[i] = length/(i+1)\n",
    "\n",
    "plt.subplot(111)\n",
    "plt.plot(x_space, length_array, 'r', label = 'compression rate')\n",
    "plt.plot(x_space, entropy_list, 'b', label = 'block entropy')\n",
    "plt.legend()\n",
    "plt.show()"
   ]
  },
  {
   "cell_type": "markdown",
   "metadata": {},
   "source": [
    "# Conclusion\n",
    "\n",
    "We applied Huffman code to the [a1 a2 a3 a4] data.  \n",
    "If we convert those letters to 'G', 'T', 'A' and 'C', we can regard this process of compressing DNA data.\n",
    "However, as we need to figure out the distribution of base sequences, it requires a lot of effort to construct adequate mapping. Furthermore, if each sequences are equally distributed, the entropy will be close to 2 and there is no meaning to construct huffman code for that."
   ]
  }
 ],
 "metadata": {
  "anaconda-cloud": {},
  "kernelspec": {
   "display_name": "Python [default]",
   "language": "python",
   "name": "python2"
  },
  "language_info": {
   "codemirror_mode": {
    "name": "ipython",
    "version": 2
   },
   "file_extension": ".py",
   "mimetype": "text/x-python",
   "name": "python",
   "nbconvert_exporter": "python",
   "pygments_lexer": "ipython2",
   "version": "2.7.12"
  }
 },
 "nbformat": 4,
 "nbformat_minor": 1
}
