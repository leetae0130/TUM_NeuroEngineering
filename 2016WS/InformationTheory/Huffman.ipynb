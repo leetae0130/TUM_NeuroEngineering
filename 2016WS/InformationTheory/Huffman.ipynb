{
 "cells": [
  {
   "cell_type": "code",
   "execution_count": 12,
   "metadata": {
    "collapsed": false
   },
   "outputs": [
    {
     "name": "stdout",
     "output_type": "stream",
     "text": [
      "a1 : 0 with probability 0.4\n",
      "a2 : 10 with probability 0.3\n",
      "a4 : 110 with probability 0.1\n",
      "a3 : 111 with probability 0.2\n",
      "/bin/sh: -c: line 0: syntax error near unexpected token `Basic_Huffman.png'\r\n",
      "/bin/sh: -c: line 0: `[title](Basic_Huffman.png)'\r\n"
     ]
    }
   ],
   "source": [
    "from ete3 import Tree, TreeStyle\n",
    "from IPython.display import Image\n",
    "\n",
    "class Binary_Leaf:\n",
    "    def __init__(self, name, prob_value, l_child = None, r_child = None, parent_node = None, is_root = False, code = \"\"):\n",
    "        self.name = name\n",
    "        self.probability =  prob_value\n",
    "        self.left_child = l_child\n",
    "        self.right_child = r_child\n",
    "        self.parent = parent_node\n",
    "        self.is_tree = is_root\n",
    "        self.code = code\n",
    "    def get_leftchild(self):\n",
    "        return self.left_child\n",
    "    def get_rightchild(self):\n",
    "        return self.right_child\n",
    "    def get_parent(self):\n",
    "        return self.parent_node\n",
    "    def branch_info(self):\n",
    "        return self.is_tree\n",
    "    def get_code(self):\n",
    "        return self.code\n",
    "    def set_code(self, codeword):\n",
    "        self.code = codeword\n",
    "    def set_childcode(self):\n",
    "        self.left_child.code = self.code + \"0\"\n",
    "        self.right_child.code = self.code + \"1\"\n",
    "        if self.left_child.is_tree :\n",
    "            self.left_child.set_childcode()\n",
    "        if self.right_child.is_tree :\n",
    "            self.right_child.set_childcode()\n",
    "    def set_leftchild(self, node):\n",
    "        self.left_child = node\n",
    "    def set_rightchild(self, node):\n",
    "        self.right_child = node\n",
    "\n",
    "class Leaf_List:\n",
    "    def __init__(self, leaf_list):\n",
    "        self.leaves = leaf_list\n",
    "    def sort_leaf(self):\n",
    "        return sorted(self.leaves, key=lambda leaf : leaf.probability, reverse = True)\n",
    "    def compress_leaf(self):\n",
    "        sorted_leaf = self.sort_leaf()\n",
    "        least_prob = sorted_leaf[-1]\n",
    "        next_prob = sorted_leaf[-2]\n",
    "        merged_leaf = Binary_Leaf(\"branch\", least_prob.probability + next_prob.probability, \n",
    "                                  l_child = least_prob, r_child = next_prob, is_root = True)\n",
    "        self.leaves = sorted_leaf[:-2] + [merged_leaf]\n",
    "    def show_codes(self):\n",
    "        for leaf in self.leaves :\n",
    "            print str(leaf.probability) + \" : \" + leaf.get_code()            \n",
    "    def size(self):\n",
    "        return len(self.leaves)\n",
    "            \n",
    "def Tree_search(root):        \n",
    "    s = \"\"\n",
    "    if root.is_tree == False :\n",
    "        s += root.name\n",
    "        print root.name + \" : \" + root.get_code() + \" with probability \" + str(root.probability)\n",
    "    else :\n",
    "        s += \"(\"\n",
    "        s += Tree_search(root.left_child)\n",
    "        s += \",\"\n",
    "        s += Tree_search(root.right_child)\n",
    "        s += \")\"\n",
    "    return s\n",
    "            \n",
    "def Huffman(leaves):\n",
    "    while(leaves.size() > 1):\n",
    "        leaves.compress_leaf()\n",
    "    root = leaves.leaves[0]\n",
    "    root.set_childcode()\n",
    "    s = Tree_search(root) + \";\"\n",
    "    t = Tree(s, format=1)\n",
    "    return t\n",
    "    \n",
    "        \n",
    "a1 = Binary_Leaf(\"a1\", 0.4)\n",
    "a2 = Binary_Leaf(\"a2\", 0.3)\n",
    "a3 = Binary_Leaf(\"a3\", 0.2)\n",
    "a4 = Binary_Leaf(\"a4\", 0.1)\n",
    "\n",
    "List = [a1, a2, a3, a4]\n",
    "Leaves = Leaf_List(List)\n",
    "\n",
    "tree = Huffman(Leaves)\n",
    "#ts = TreeStyle()\n",
    "#ts.min_leaf_separation = 10\n",
    "#tree.render('Basic Huffman.png')\n"
   ]
  },
  {
   "cell_type": "code",
   "execution_count": 5,
   "metadata": {
    "collapsed": false
   },
   "outputs": [
    {
     "name": "stdout",
     "output_type": "stream",
     "text": [
      "a2a2 : 000 with probability 0.09\n",
      "a1a4 : 0010 with probability 0.04\n",
      "a3a4 : 00110 with probability 0.02\n",
      "a4a2 : 00111 with probability 0.03\n",
      "a3a2 : 0100 with probability 0.06\n",
      "a2a3 : 0101 with probability 0.06\n",
      "a2a1 : 011 with probability 0.12\n",
      "a1a2 : 100 with probability 0.12\n",
      "a2a4 : 10100 with probability 0.03\n",
      "a4a4 : 101010 with probability 0.01\n",
      "a4a3 : 101011 with probability 0.02\n",
      "a4a1 : 10110 with probability 0.04\n",
      "a3a3 : 10111 with probability 0.04\n",
      "a3a1 : 1100 with probability 0.08\n",
      "a1a3 : 1101 with probability 0.08\n",
      "a1a1 : 111 with probability 0.16\n"
     ]
    }
   ],
   "source": [
    "List2 = []\n",
    "\n",
    "for l1 in List:\n",
    "    for l2 in List:\n",
    "        a = Binary_Leaf(l1.name+l2.name, l1.probability*l2.probability)\n",
    "        List2.append(a)\n",
    "\n",
    "Leaves = Leaf_List(List2)\n",
    "\n",
    "tree = Huffman(Leaves)"
   ]
  },
  {
   "cell_type": "code",
   "execution_count": null,
   "metadata": {
    "collapsed": true
   },
   "outputs": [],
   "source": []
  }
 ],
 "metadata": {
  "anaconda-cloud": {},
  "kernelspec": {
   "display_name": "Python [default]",
   "language": "python",
   "name": "python2"
  },
  "language_info": {
   "codemirror_mode": {
    "name": "ipython",
    "version": 2
   },
   "file_extension": ".py",
   "mimetype": "text/x-python",
   "name": "python",
   "nbconvert_exporter": "python",
   "pygments_lexer": "ipython2",
   "version": "2.7.12"
  }
 },
 "nbformat": 4,
 "nbformat_minor": 1
}
